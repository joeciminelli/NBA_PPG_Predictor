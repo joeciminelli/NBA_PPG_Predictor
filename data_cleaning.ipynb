{
 "cells": [
  {
   "cell_type": "code",
   "execution_count": 87,
   "id": "9d876cc0",
   "metadata": {},
   "outputs": [],
   "source": [
    "import pandas as pd\n",
    "import numpy as np\n",
    "from datetime import datetime\n",
    "from sklearn.model_selection import train_test_split\n",
    "from sklearn.linear_model import LinearRegression, Lasso \n",
    "from sklearn.ensemble import RandomForestRegressor\n",
    "from sklearn.model_selection import cross_val_score\n",
    "import matplotlib.pyplot as plt\n",
    "import seaborn as sns\n",
    "import statsmodels.api as sm\n",
    "import warnings\n",
    "warnings.filterwarnings('ignore')\n",
    "from sklearn.model_selection import GridSearchCV\n",
    "from sklearn.metrics import mean_absolute_error"
   ]
  },
  {
   "cell_type": "code",
   "execution_count": 88,
   "id": "cdc51961",
   "metadata": {},
   "outputs": [],
   "source": [
    "#read in data set and set proper shape \n",
    "player = pd.read_csv(\"Fox.csv\", header = 1).set_index(\"Rk\")"
   ]
  },
  {
   "cell_type": "code",
   "execution_count": 89,
   "id": "2c21d065",
   "metadata": {},
   "outputs": [
    {
     "data": {
      "text/plain": [
       "count    99.000000\n",
       "mean     23.494949\n",
       "std       7.945444\n",
       "min       8.000000\n",
       "25%      17.000000\n",
       "50%      24.000000\n",
       "75%      29.000000\n",
       "max      44.000000\n",
       "Name: PTS, dtype: float64"
      ]
     },
     "execution_count": 89,
     "metadata": {},
     "output_type": "execute_result"
    }
   ],
   "source": [
    "# how variable is our data\n",
    "player['PTS'].describe()"
   ]
  },
  {
   "cell_type": "code",
   "execution_count": 90,
   "id": "7f3554ce",
   "metadata": {},
   "outputs": [
    {
     "data": {
      "text/plain": [
       "<AxesSubplot:>"
      ]
     },
     "execution_count": 90,
     "metadata": {},
     "output_type": "execute_result"
    },
    {
     "data": {
      "image/png": "[encoded data removed]",
      "text/plain": [
       "<Figure size 432x288 with 1 Axes>"
      ]
     },
     "metadata": {
      "needs_background": "light"
     },
     "output_type": "display_data"
    }
   ],
   "source": [
    "# how variable is our data\n",
    "player['PTS'].hist()"
   ]
  },
  {
   "cell_type": "code",
   "execution_count": 91,
   "id": "31af8c34",
   "metadata": {},
   "outputs": [],
   "source": [
    "# rename unnamed col indicating home or away \n",
    "player = player.rename(columns = {\"Unnamed: 5\": \"Home\"})"
   ]
  },
  {
   "cell_type": "code",
   "execution_count": 92,
   "id": "ae8ba84d",
   "metadata": {},
   "outputs": [],
   "source": [
    "# change @ to binary home or away \n",
    "player['Home'] = player['Home'].replace(np.nan, 1)\n",
    "player['Home'] = player['Home'].replace('@', 0)"
   ]
  },
  {
   "cell_type": "code",
   "execution_count": 93,
   "id": "83e9dc76",
   "metadata": {},
   "outputs": [],
   "source": [
    "# Keep desired columns\n",
    "player = player[['Date', 'Opp', 'Home', 'MP', 'FG%', 'FTA', 'PTS']]"
   ]
  },
  {
   "cell_type": "code",
   "execution_count": 94,
   "id": "4e081ec5",
   "metadata": {},
   "outputs": [],
   "source": [
    "# convert string to date time format\n",
    "format = '%Y-%m-%d'  \n",
    "player['Date'] = player['Date'].apply(lambda x: datetime.strptime(x, format))"
   ]
  },
  {
   "cell_type": "code",
   "execution_count": 95,
   "id": "b2869dd8",
   "metadata": {},
   "outputs": [],
   "source": [
    "# add the points of the next game at end along with current game known data \n",
    "next_game_pts = player['PTS'].shift(1)\n",
    "next_game_opp = player['Opp'].shift(1)\n",
    "next_game_date = player['Date'].shift(1)\n",
    "next_game_home = player['Home'].shift(1)\n",
    "\n",
    "player[\"curr_opp\"] = next_game_opp\n",
    "player['curr_timestamp'] = next_game_date\n",
    "player[\"curr_pts\"] = next_game_pts\n",
    "player[\"curr_h\"] = next_game_home"
   ]
  },
  {
   "cell_type": "code",
   "execution_count": 96,
   "id": "29365d12",
   "metadata": {},
   "outputs": [],
   "source": [
    "# rename to more logical \n",
    "player = player.rename(columns = {\"Date\": \"days_since_0\", 'Opp': 'opp_0', 'Home':'h_0', 'MP': 'mp_0', 'FG%': 'fg%_0',\n",
    "                                 'FTA': 'fta_0', 'PTS': 'pts_0'})"
   ]
  },
  {
   "cell_type": "code",
   "execution_count": 97,
   "id": "d7a2e2d0",
   "metadata": {},
   "outputs": [],
   "source": [
    "# create function that adds a desired amount of games as previous data \n",
    "# also convert timestamp to time since game\n",
    "\n",
    "def add_prev_games(x, player):\n",
    "    \n",
    "    player_copy = player.copy()\n",
    "    player_copy = player_copy.drop(columns =[\"curr_pts\", \"curr_opp\",'curr_timestamp', 'curr_h'])\n",
    "    df_list = [player]\n",
    "    \n",
    "    for i in range(1,x+1):\n",
    "        player_copy = player_copy.shift(-i)\n",
    "        player_copy = player_copy.rename(columns = {'days_since_0':'days_since_'+str(i) , 'opp_0':'opp_'+str(i) , \n",
    "                                                    'h_0': 'h_'+str(i), 'mp_0': 'mp_'+str(i), \n",
    "                                                    'fg%_0': 'fg%_'+str(i),'fta_0': 'fta_'+str(i), \n",
    "                                                    'pts_0':'pts_'+str(i)})\n",
    "        df_list.insert(0, player_copy)\n",
    "        player_copy = player.copy()\n",
    "        player_copy = player_copy.drop(columns =[\"curr_pts\", \"curr_opp\",'curr_timestamp', 'curr_h'])\n",
    "    \n",
    "    merged = pd.concat(df_list, axis=1, join=\"inner\")\n",
    "    merged = merged.iloc[1:-x,:].reset_index()\n",
    "    merged = merged.drop(columns = 'Rk')\n",
    "    \n",
    "    \n",
    "    #converts time to time since game  \n",
    "    for i in range(0,x+1):\n",
    "        merged['days_since_'+str(i)] = (merged['curr_timestamp'] - merged['days_since_'+str(i)]).apply(lambda x: x.days)\n",
    "        \n",
    "    merged = merged.drop(columns =[\"curr_timestamp\"])\n",
    "    \n",
    "    return merged    "
   ]
  },
  {
   "cell_type": "code",
   "execution_count": 98,
   "id": "472b4bfe",
   "metadata": {},
   "outputs": [],
   "source": [
    "player = add_prev_games(3, player) "
   ]
  },
  {
   "cell_type": "code",
   "execution_count": 99,
   "id": "39b57099",
   "metadata": {},
   "outputs": [
    {
     "data": {
      "text/plain": [
       "<AxesSubplot:>"
      ]
     },
     "execution_count": 99,
     "metadata": {},
     "output_type": "execute_result"
    },
    {
     "data": {
      "image/png": "[encoded data removed]",
      "text/plain": [
       "<Figure size 432x288 with 2 Axes>"
      ]
     },
     "metadata": {
      "needs_background": "light"
     },
     "output_type": "display_data"
    }
   ],
   "source": [
    "# correlation matrix\n",
    "cmap = sns.diverging_palette(220, 10, as_cmap=True)\n",
    "sns.heatmap(player.corr(), vmax=.3, center=0,\n",
    "            square=True, linewidths=.5, cbar_kws={\"shrink\": .5})"
   ]
  },
  {
   "cell_type": "code",
   "execution_count": 100,
   "id": "269cc489",
   "metadata": {},
   "outputs": [],
   "source": [
    "# create dummies\n",
    "player = pd.get_dummies(player)"
   ]
  },
  {
   "cell_type": "code",
   "execution_count": 101,
   "id": "99954f28",
   "metadata": {},
   "outputs": [],
   "source": [
    "# create test and train splits \n",
    "X = player.drop(columns = \"curr_pts\")\n",
    "y = player.curr_pts.values\n",
    "X_train, X_test, y_train, y_test=train_test_split(X, y, train_size=0.8, test_size=0.2, random_state=42)"
   ]
  },
  {
   "cell_type": "code",
   "execution_count": 102,
   "id": "48375f80",
   "metadata": {},
   "outputs": [
    {
     "data": {
      "text/plain": [
       "-9.01438574368073"
      ]
     },
     "execution_count": 102,
     "metadata": {},
     "output_type": "execute_result"
    }
   ],
   "source": [
    "# Simple Linear Regression \n",
    "lm = LinearRegression()\n",
    "np.mean(cross_val_score(lm, X_train, y_train, scoring = \"neg_mean_absolute_error\", cv = 4))"
   ]
  },
  {
   "cell_type": "code",
   "execution_count": 103,
   "id": "c438d888",
   "metadata": {},
   "outputs": [
    {
     "data": {
      "text/plain": [
       "[<matplotlib.lines.Line2D at 0x7fda9ca2c700>]"
      ]
     },
     "execution_count": 103,
     "metadata": {},
     "output_type": "execute_result"
    },
    {
     "data": {
      "image/png": "[encoded data removed]",
      "text/plain": [
       "<Figure size 432x288 with 1 Axes>"
      ]
     },
     "metadata": {
      "needs_background": "light"
     },
     "output_type": "display_data"
    }
   ],
   "source": [
    "# Lasso Regression\n",
    "\n",
    "# Takes a second to run but used to finds the best alpha \n",
    "\n",
    "alpha = []\n",
    "error = []\n",
    "for i in range(1,100):\n",
    "    alpha.append(i/100)\n",
    "    lml = Lasso(alpha=(i/100))\n",
    "    error.append(np.mean(cross_val_score(lml,X_train,y_train, scoring = 'neg_mean_absolute_error', cv= 2)))\n",
    "plt.plot(alpha,error)"
   ]
  },
  {
   "cell_type": "code",
   "execution_count": 104,
   "id": "1aadbad0",
   "metadata": {},
   "outputs": [
    {
     "data": {
      "text/plain": [
       "-6.4461357197798375"
      ]
     },
     "execution_count": 104,
     "metadata": {},
     "output_type": "execute_result"
    }
   ],
   "source": [
    "best_alpha = pd.DataFrame(zip(alpha, error))[0][98]\n",
    "lm_l = Lasso(alpha = best_alpha)\n",
    "np.mean(cross_val_score(lm_l,X_train,y_train, scoring = 'neg_mean_absolute_error', cv = 2))"
   ]
  },
  {
   "cell_type": "code",
   "execution_count": 105,
   "id": "2f43a29e",
   "metadata": {},
   "outputs": [
    {
     "data": {
      "text/plain": [
       "-6.300657894736842"
      ]
     },
     "execution_count": 105,
     "metadata": {},
     "output_type": "execute_result"
    }
   ],
   "source": [
    "# Random Forest \n",
    "rf = RandomForestRegressor()\n",
    "np.mean(cross_val_score(rf,X_train,y_train,scoring = 'neg_mean_absolute_error', cv = 2))"
   ]
  },
  {
   "cell_type": "code",
   "execution_count": 106,
   "id": "50882eaf",
   "metadata": {},
   "outputs": [
    {
     "data": {
      "text/plain": [
       "RandomForestRegressor(criterion='mae', max_features='sqrt', n_estimators=80)"
      ]
     },
     "execution_count": 106,
     "metadata": {},
     "output_type": "execute_result"
    }
   ],
   "source": [
    "# Tuning to find optimal hyper parameters \n",
    "parameters = {'n_estimators':range(10,300,10), 'criterion':('mse','mae'), 'max_features':('auto','sqrt','log2')}\n",
    "gs = GridSearchCV(rf,parameters,scoring='neg_mean_absolute_error',cv=2)\n",
    "gs.fit(X_train,y_train)\n",
    "gs.best_score_\n",
    "gs.best_estimator_"
   ]
  },
  {
   "cell_type": "code",
   "execution_count": 107,
   "id": "16d5e901",
   "metadata": {},
   "outputs": [
    {
     "data": {
      "text/plain": [
       "-6.113815789473684"
      ]
     },
     "execution_count": 107,
     "metadata": {},
     "output_type": "execute_result"
    }
   ],
   "source": [
    "np.mean(cross_val_score(gs.best_estimator_,X_train,y_train,scoring = 'neg_mean_absolute_error', cv = 2))"
   ]
  },
  {
   "cell_type": "code",
   "execution_count": 108,
   "id": "b4812109",
   "metadata": {},
   "outputs": [
    {
     "data": {
      "text/plain": [
       "RandomForestRegressor()"
      ]
     },
     "execution_count": 108,
     "metadata": {},
     "output_type": "execute_result"
    }
   ],
   "source": [
    "# Fitting all models \n",
    "lm.fit(X_train,y_train)\n",
    "lm_l.fit(X_train,y_train)\n",
    "rf.fit(X_train,y_train)"
   ]
  },
  {
   "cell_type": "code",
   "execution_count": 109,
   "id": "426cf35e",
   "metadata": {},
   "outputs": [],
   "source": [
    "# Predict y values with models  \n",
    "tpred_lm = lm.predict(X_test)\n",
    "tpred_lml = lm_l.predict(X_test)\n",
    "tpred_rf = rf.predict(X_test)\n",
    "tpred_gs = gs.predict(X_test)"
   ]
  },
  {
   "cell_type": "code",
   "execution_count": 110,
   "id": "4155b87d",
   "metadata": {},
   "outputs": [
    {
     "name": "stdout",
     "output_type": "stream",
     "text": [
      "Basic Linear Regression Scores: 8.966138736149253\n",
      "Lasso Regression Scores: 7.5676393783255005\n",
      "Random Forest Before Tuning Scores: 8.367368421052632\n",
      "Tuned Random Forest Scores: 8.0625\n"
     ]
    }
   ],
   "source": [
    "# Test Scores\n",
    "\n",
    "print(\"Basic Linear Regression Scores: \" + str(mean_absolute_error(y_test,tpred_lm)))\n",
    "print(\"Lasso Regression Scores: \" + str(mean_absolute_error(y_test,tpred_lml)))\n",
    "print(\"Random Forest Before Tuning Scores: \" + str(mean_absolute_error(y_test,tpred_rf)))\n",
    "print(\"Tuned Random Forest Scores: \"+ str(mean_absolute_error(y_test,tpred_gs)))"
   ]
  },
  {
   "cell_type": "code",
   "execution_count": 111,
   "id": "2678a705",
   "metadata": {},
   "outputs": [
    {
     "name": "stdout",
     "output_type": "stream",
     "text": [
      "Combining lm and gs gives: 8.276709915884146\n"
     ]
    }
   ],
   "source": [
    "# Combining two models \n",
    "\n",
    "print(\"Combining lm and gs gives: \" + str(mean_absolute_error(y_test,(tpred_lm + tpred_gs)/2)))"
   ]
  },
  {
   "cell_type": "code",
   "execution_count": null,
   "id": "0f95b2c4",
   "metadata": {},
   "outputs": [],
   "source": []
  }
 ],
 "metadata": {
  "kernelspec": {
   "display_name": "Python 3",
   "language": "python",
   "name": "python3"
  },
  "language_info": {
   "codemirror_mode": {
    "name": "ipython",
    "version": 3
   },
   "file_extension": ".py",
   "mimetype": "text/x-python",
   "name": "python",
   "nbconvert_exporter": "python",
   "pygments_lexer": "ipython3",
   "version": "3.8.8"
  }
 },
 "nbformat": 4,
 "nbformat_minor": 5
}
